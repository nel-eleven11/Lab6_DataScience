{
 "cells": [
  {
   "cell_type": "markdown",
   "metadata": {},
   "source": [
    "# Laboratorio 6\n",
    "## Data Science\n",
    "\n",
    "Autores:\n",
    "\n",
    "- Nelson García \n",
    "- Christian Echeverría"
   ]
  },
  {
   "cell_type": "markdown",
   "metadata": {
    "id": "HO4Yvxr1PbBT"
   },
   "source": [
    "## Análisis de Sentimientos de críticas de películas\n",
    "\n",
    "Junto con Keras, viene un ejemplo imdb_lstm.py. Este ejercicio esta prácticamente basado en él.\n",
    "\n",
    "Es un gran ejemplo del uso de las RNNs.  El conjunto de datos que se utilizará consta de críticas de películas generadas por usuarios, y una classificación indicando si le gustó, o no, basado en su rating asociado. \n",
    "\n",
    "Hay más información de este conjunto de datos en:\n",
    "\n",
    "https://keras.io/datasets/#imdb-movie-reviews-sentiment-classification\n",
    "\n",
    "Como la comprensión del lenguaje escrito requiere \"llevar cuenta\" de todas las palabras en una oración, necesitamos una RNN para mantener una \"memoria\" de las palabras que pasaron antes, conforme va \"leyendo\" oraciones a lo largo del tiempo. \n",
    "\n",
    "En particular, se usarán unidades LSTM (Long Short-Term Memory) porque no es deseable \"olvidar\" palabras demasiado rápido...las palabras al inicio de una oración pueden afectar el significado de la misma grandemente.\n",
    "\n",
    "Empezamos por la importación de lo que se requiere:"
   ]
  },
  {
   "cell_type": "markdown",
   "metadata": {},
   "source": [
    "## Importación de Datos:"
   ]
  },
  {
   "cell_type": "code",
   "execution_count": 1,
   "metadata": {},
   "outputs": [],
   "source": [
    "import os\n",
    "os.environ[\"TF_FORCE_GPU_ALLOW_GROWTH\"] = \"true\"   # habilita growth desde el arranque\n",
    "os.environ[\"TF_CPP_MIN_LOG_LEVEL\"] = \"1\"           "
   ]
  },
  {
   "cell_type": "code",
   "execution_count": 2,
   "metadata": {
    "id": "-5GymP2ePbBc"
   },
   "outputs": [
    {
     "name": "stdout",
     "output_type": "stream",
     "text": [
      "TF: 2.20.0\n",
      "Build info: OrderedDict({'cpu_compiler': 'clang 18', 'cuda_compute_capabilities': ['sm_60', 'sm_70', 'sm_80', 'sm_89', 'compute_90'], 'cuda_version': '12.5.1', 'cudnn_version': '9', 'is_cuda_build': True, 'is_rocm_build': False, 'is_tensorrt_build': False})\n",
      "GPUs detectadas: []\n"
     ]
    },
    {
     "name": "stderr",
     "output_type": "stream",
     "text": [
      "WARNING: All log messages before absl::InitializeLog() is called are written to STDERR\n",
      "E0000 00:00:1757897729.745036  129951 cuda_executor.cc:1309] INTERNAL: CUDA Runtime error: Failed call to cudaGetRuntimeVersion: Error loading CUDA libraries. GPU will not be used.: Error loading CUDA libraries. GPU will not be used.\n",
      "W0000 00:00:1757897729.751103  129951 gpu_device.cc:2342] Cannot dlopen some GPU libraries. Please make sure the missing libraries mentioned above are installed properly if you would like to use GPU. Follow the guide at https://www.tensorflow.org/install/gpu for how to download and setup the required libraries for your platform.\n",
      "Skipping registering GPU devices...\n"
     ]
    }
   ],
   "source": [
    "import tensorflow as tf\n",
    "\n",
    "print(\"TF:\", tf.__version__)\n",
    "print(\"Build info:\", getattr(tf.sysconfig, \"get_build_info\", lambda: {})())\n",
    "\n",
    "gpus = tf.config.list_physical_devices('GPU')\n",
    "print(\"GPUs detectadas:\", gpus)\n",
    "\n",
    "# Activa growth explícitamente (ya debería estar por env var, pero así confirmas)\n",
    "for gpu in gpus:\n",
    "    tf.config.experimental.set_memory_growth(gpu, True)\n",
    "\n",
    "from tensorflow.keras.preprocessing import sequence\n",
    "from tensorflow.keras.models import Sequential\n",
    "from tensorflow.keras.layers import Dense, Embedding\n",
    "from tensorflow.keras.layers import LSTM\n",
    "from tensorflow.keras.datasets import imdb\n",
    "from tensorflow import keras\n",
    "from tensorflow.keras import layers, callbacks, optimizers, regularizers\n"
   ]
  },
  {
   "cell_type": "markdown",
   "metadata": {
    "id": "1aFJnFb7PbBd"
   },
   "source": [
    "Ahora importar los datos para entrenamiento y prueba.  Para que sea más manejable, se especifica que se quieren solamente las 50,000 palabras más populares en el conjunto de datos. Por algún motivo, este conjunto tiene una relación de 50% entreno y 50% prueba. "
   ]
  },
  {
   "cell_type": "code",
   "execution_count": 3,
   "metadata": {
    "colab": {
     "base_uri": "https://localhost:8080/"
    },
    "id": "ThMIo9DYPbBd",
    "outputId": "0dbe0c33-c2b7-427c-e4ac-fc97e80cee85"
   },
   "outputs": [
    {
     "name": "stdout",
     "output_type": "stream",
     "text": [
      "Cargando los datos...\n",
      "Downloading data from https://storage.googleapis.com/tensorflow/tf-keras-datasets/imdb.npz\n",
      "\u001b[1m17464789/17464789\u001b[0m \u001b[32m━━━━━━━━━━━━━━━━━━━━\u001b[0m\u001b[37m\u001b[0m \u001b[1m7s\u001b[0m 0us/step\n"
     ]
    }
   ],
   "source": [
    "print('Cargando los datos...')\n",
    "(X_train, y_train), (X_test, y_test) = imdb.load_data(num_words=50000)"
   ]
  },
  {
   "cell_type": "markdown",
   "metadata": {},
   "source": [
    "## Pre-procesamiento"
   ]
  },
  {
   "cell_type": "code",
   "execution_count": 4,
   "metadata": {
    "tags": []
   },
   "outputs": [
    {
     "data": {
      "text/plain": [
       "25000"
      ]
     },
     "execution_count": 4,
     "metadata": {},
     "output_type": "execute_result"
    }
   ],
   "source": [
    "len(X_train)"
   ]
  },
  {
   "cell_type": "code",
   "execution_count": 5,
   "metadata": {
    "tags": []
   },
   "outputs": [
    {
     "data": {
      "text/plain": [
       "25000"
      ]
     },
     "execution_count": 5,
     "metadata": {},
     "output_type": "execute_result"
    }
   ],
   "source": [
    "len(X_test)"
   ]
  },
  {
   "cell_type": "markdown",
   "metadata": {
    "id": "-_EZvv_6PbBd"
   },
   "source": [
    "A ver cómo son los datos, el primer elemento de entrenamiento debe ser una crítica de una película:"
   ]
  },
  {
   "cell_type": "code",
   "execution_count": 6,
   "metadata": {
    "colab": {
     "base_uri": "https://localhost:8080/"
    },
    "id": "xPsneaWNPbBe",
    "outputId": "cc84e444-4b55-4a9f-f3db-068d91ec85c8"
   },
   "outputs": [
    {
     "data": {
      "text/plain": [
       "[1,\n",
       " 14,\n",
       " 22,\n",
       " 16,\n",
       " 43,\n",
       " 530,\n",
       " 973,\n",
       " 1622,\n",
       " 1385,\n",
       " 65,\n",
       " 458,\n",
       " 4468,\n",
       " 66,\n",
       " 3941,\n",
       " 4,\n",
       " 173,\n",
       " 36,\n",
       " 256,\n",
       " 5,\n",
       " 25,\n",
       " 100,\n",
       " 43,\n",
       " 838,\n",
       " 112,\n",
       " 50,\n",
       " 670,\n",
       " 22665,\n",
       " 9,\n",
       " 35,\n",
       " 480,\n",
       " 284,\n",
       " 5,\n",
       " 150,\n",
       " 4,\n",
       " 172,\n",
       " 112,\n",
       " 167,\n",
       " 21631,\n",
       " 336,\n",
       " 385,\n",
       " 39,\n",
       " 4,\n",
       " 172,\n",
       " 4536,\n",
       " 1111,\n",
       " 17,\n",
       " 546,\n",
       " 38,\n",
       " 13,\n",
       " 447,\n",
       " 4,\n",
       " 192,\n",
       " 50,\n",
       " 16,\n",
       " 6,\n",
       " 147,\n",
       " 2025,\n",
       " 19,\n",
       " 14,\n",
       " 22,\n",
       " 4,\n",
       " 1920,\n",
       " 4613,\n",
       " 469,\n",
       " 4,\n",
       " 22,\n",
       " 71,\n",
       " 87,\n",
       " 12,\n",
       " 16,\n",
       " 43,\n",
       " 530,\n",
       " 38,\n",
       " 76,\n",
       " 15,\n",
       " 13,\n",
       " 1247,\n",
       " 4,\n",
       " 22,\n",
       " 17,\n",
       " 515,\n",
       " 17,\n",
       " 12,\n",
       " 16,\n",
       " 626,\n",
       " 18,\n",
       " 19193,\n",
       " 5,\n",
       " 62,\n",
       " 386,\n",
       " 12,\n",
       " 8,\n",
       " 316,\n",
       " 8,\n",
       " 106,\n",
       " 5,\n",
       " 4,\n",
       " 2223,\n",
       " 5244,\n",
       " 16,\n",
       " 480,\n",
       " 66,\n",
       " 3785,\n",
       " 33,\n",
       " 4,\n",
       " 130,\n",
       " 12,\n",
       " 16,\n",
       " 38,\n",
       " 619,\n",
       " 5,\n",
       " 25,\n",
       " 124,\n",
       " 51,\n",
       " 36,\n",
       " 135,\n",
       " 48,\n",
       " 25,\n",
       " 1415,\n",
       " 33,\n",
       " 6,\n",
       " 22,\n",
       " 12,\n",
       " 215,\n",
       " 28,\n",
       " 77,\n",
       " 52,\n",
       " 5,\n",
       " 14,\n",
       " 407,\n",
       " 16,\n",
       " 82,\n",
       " 10311,\n",
       " 8,\n",
       " 4,\n",
       " 107,\n",
       " 117,\n",
       " 5952,\n",
       " 15,\n",
       " 256,\n",
       " 4,\n",
       " 31050,\n",
       " 7,\n",
       " 3766,\n",
       " 5,\n",
       " 723,\n",
       " 36,\n",
       " 71,\n",
       " 43,\n",
       " 530,\n",
       " 476,\n",
       " 26,\n",
       " 400,\n",
       " 317,\n",
       " 46,\n",
       " 7,\n",
       " 4,\n",
       " 12118,\n",
       " 1029,\n",
       " 13,\n",
       " 104,\n",
       " 88,\n",
       " 4,\n",
       " 381,\n",
       " 15,\n",
       " 297,\n",
       " 98,\n",
       " 32,\n",
       " 2071,\n",
       " 56,\n",
       " 26,\n",
       " 141,\n",
       " 6,\n",
       " 194,\n",
       " 7486,\n",
       " 18,\n",
       " 4,\n",
       " 226,\n",
       " 22,\n",
       " 21,\n",
       " 134,\n",
       " 476,\n",
       " 26,\n",
       " 480,\n",
       " 5,\n",
       " 144,\n",
       " 30,\n",
       " 5535,\n",
       " 18,\n",
       " 51,\n",
       " 36,\n",
       " 28,\n",
       " 224,\n",
       " 92,\n",
       " 25,\n",
       " 104,\n",
       " 4,\n",
       " 226,\n",
       " 65,\n",
       " 16,\n",
       " 38,\n",
       " 1334,\n",
       " 88,\n",
       " 12,\n",
       " 16,\n",
       " 283,\n",
       " 5,\n",
       " 16,\n",
       " 4472,\n",
       " 113,\n",
       " 103,\n",
       " 32,\n",
       " 15,\n",
       " 16,\n",
       " 5345,\n",
       " 19,\n",
       " 178,\n",
       " 32]"
      ]
     },
     "execution_count": 6,
     "metadata": {},
     "output_type": "execute_result"
    }
   ],
   "source": [
    "X_train[0]"
   ]
  },
  {
   "cell_type": "markdown",
   "metadata": {
    "id": "hoHWVuCEPbBe"
   },
   "source": [
    "Esto no parece una crítica de una película!!!!  Resulta que la gente que preparó los datos ya hizo algo de preparación previa de los datos.  Estos números coinciden con el índice correspondiente a cada palabra de la crítica.  En realidad las palabras en sí, no son de interés...el modelo requiere números no palabras. \n",
    "\n",
    "Lo triste es que no será posible leer las críticas...siquiera para tener una idea de si funciona el análiisis, o no.\n",
    "\n",
    "Y, ¿cómo son las etiquetas (metas)?"
   ]
  },
  {
   "cell_type": "code",
   "execution_count": 7,
   "metadata": {
    "colab": {
     "base_uri": "https://localhost:8080/"
    },
    "id": "hxKy_iFPPbBe",
    "outputId": "7fd0922e-9098-4b26-c8d2-078a296c1074"
   },
   "outputs": [
    {
     "data": {
      "text/plain": [
       "np.int64(1)"
      ]
     },
     "execution_count": 7,
     "metadata": {},
     "output_type": "execute_result"
    }
   ],
   "source": [
    "y_train[0]"
   ]
  },
  {
   "cell_type": "markdown",
   "metadata": {
    "id": "sPLmsWk5PbBe"
   },
   "source": [
    "Son simplemente 0 ó 1, que indica sí al que escribió la crítica le gustó, o no, la película.\n",
    "\n",
    "Para resumir, para el entrenamiento se tiene un conjunto de críticas de películas que han sido convertidas a vectores de palabras representadas por enteros, y una clasificación de sentimiento binaria.\n",
    "\n",
    "Las RNNs pueden \"explotar\" muy rápidamente (se habló de esto en clase).  Para que no se sobrecarguen las PCs que se podrían usar, se limitarán las críticas a las primeras 80 palabras:"
   ]
  },
  {
   "cell_type": "code",
   "execution_count": 8,
   "metadata": {
    "id": "td7nNbGcPbBf"
   },
   "outputs": [],
   "source": [
    "X_train = sequence.pad_sequences(X_train, maxlen = 80)\n",
    "X_test = sequence.pad_sequences(X_test, maxlen = 80)"
   ]
  },
  {
   "cell_type": "markdown",
   "metadata": {},
   "source": [
    "### Extracción de features adicionales"
   ]
  },
  {
   "cell_type": "code",
   "execution_count": 9,
   "metadata": {},
   "outputs": [],
   "source": [
    "import nltk\n",
    "\n",
    "try:\n",
    "    nltk.data.find('sentiment/vader_lexicon.zip')\n",
    "except LookupError:\n",
    "    nltk.download('vader_lexicon', quiet=True)"
   ]
  },
  {
   "cell_type": "code",
   "execution_count": 10,
   "metadata": {},
   "outputs": [
    {
     "name": "stdout",
     "output_type": "stream",
     "text": [
      "Downloading data from https://storage.googleapis.com/tensorflow/tf-keras-datasets/imdb_word_index.json\n",
      "\u001b[1m1641221/1641221\u001b[0m \u001b[32m━━━━━━━━━━━━━━━━━━━━\u001b[0m\u001b[37m\u001b[0m \u001b[1m1s\u001b[0m 0us/step\n"
     ]
    }
   ],
   "source": [
    "import numpy as np\n",
    "from tensorflow.keras.preprocessing.text import Tokenizer\n",
    "from nltk.sentiment import SentimentIntensityAnalyzer\n",
    "\n",
    "\n",
    "# Inicializar el analizador de sentimientos\n",
    "sia = SentimentIntensityAnalyzer()\n",
    "\n",
    "# Función para obtener características adicionales\n",
    "def extract_features(texts, max_length=80):\n",
    "    features = []\n",
    "    \n",
    "    for text in texts:\n",
    "        # Convertir el índice a palabras\n",
    "        word_index = imdb.get_word_index()\n",
    "        index_word = {v: k for k, v in word_index.items()}\n",
    "        words = [index_word.get(i - 3, '') for i in text]  # Descontamos 3 por los valores reservados (pad, start, unknown)\n",
    "\n",
    "        # 1. Longitud de la crítica\n",
    "        features.append([len(words)])\n",
    "        \n",
    "        # 2. Proporción de palabras positivas/negativas\n",
    "        pos_words, neg_words = 0, 0\n",
    "        for word in words:\n",
    "            if word:\n",
    "                sentiment = sia.polarity_scores(word)\n",
    "                if sentiment['compound'] > 0:\n",
    "                    pos_words += 1\n",
    "                elif sentiment['compound'] < 0:\n",
    "                    neg_words += 1\n",
    "        total_words = len([word for word in words if word])  # Palabras no vacías\n",
    "        pos_neg_ratio = pos_words / neg_words if neg_words > 0 else pos_words\n",
    "        \n",
    "        features[-1].extend([pos_words, neg_words, pos_neg_ratio])\n",
    "        \n",
    "        # 3. Número de palabras únicas\n",
    "        unique_words = len(set(words))\n",
    "        features[-1].append(unique_words)\n",
    "    \n",
    "    return np.array(features)\n",
    "\n",
    "# Extraer características de entrenamiento y prueba\n",
    "train_features = extract_features(X_train)\n",
    "test_features = extract_features(X_test)\n",
    "\n",
    "# Concatenar características con las etiquetas de salida (y_train y y_test)\n",
    "x_train_features = np.hstack((train_features, X_train))\n",
    "x_test_features = np.hstack((test_features, X_test))\n",
    "\n",
    "# Ahora x_train_features y x_test_features tienen las características adicionales\n"
   ]
  },
  {
   "cell_type": "markdown",
   "metadata": {
    "id": "FUFGeOFOPbBf"
   },
   "source": [
    "## Configuración del modelo\n",
    "\n"
   ]
  },
  {
   "cell_type": "code",
   "execution_count": 11,
   "metadata": {},
   "outputs": [],
   "source": [
    "vocab_size = 50000\n",
    "maxlen = int(X_train.shape[1])\n",
    "n_features = int(train_features.shape[1])"
   ]
  },
  {
   "cell_type": "markdown",
   "metadata": {},
   "source": [
    "### Modelo Simple"
   ]
  },
  {
   "cell_type": "code",
   "execution_count": 32,
   "metadata": {
    "id": "TrgEmhr2PbBf"
   },
   "outputs": [
    {
     "name": "stdout",
     "output_type": "stream",
     "text": [
      "Epoch 1/15\n",
      "\u001b[1m313/313\u001b[0m \u001b[32m━━━━━━━━━━━━━━━━━━━━\u001b[0m\u001b[37m\u001b[0m \u001b[1m39s\u001b[0m 118ms/step - accuracy: 0.7824 - auc: 0.8639 - loss: 0.4631 - val_accuracy: 0.8310 - val_auc: 0.9153 - val_loss: 0.3867 - learning_rate: 0.0010\n",
      "Epoch 2/15\n",
      "\u001b[1m313/313\u001b[0m \u001b[32m━━━━━━━━━━━━━━━━━━━━\u001b[0m\u001b[37m\u001b[0m \u001b[1m36s\u001b[0m 114ms/step - accuracy: 0.8882 - auc: 0.9504 - loss: 0.2828 - val_accuracy: 0.8082 - val_auc: 0.8927 - val_loss: 0.4160 - learning_rate: 0.0010\n",
      "Epoch 3/15\n",
      "\u001b[1m313/313\u001b[0m \u001b[32m━━━━━━━━━━━━━━━━━━━━\u001b[0m\u001b[37m\u001b[0m \u001b[1m0s\u001b[0m 110ms/step - accuracy: 0.9364 - auc: 0.9782 - loss: 0.1824\n",
      "Epoch 3: ReduceLROnPlateau reducing learning rate to 0.0005000000237487257.\n",
      "\u001b[1m313/313\u001b[0m \u001b[32m━━━━━━━━━━━━━━━━━━━━\u001b[0m\u001b[37m\u001b[0m \u001b[1m36s\u001b[0m 114ms/step - accuracy: 0.9281 - auc: 0.9752 - loss: 0.1959 - val_accuracy: 0.8236 - val_auc: 0.9011 - val_loss: 0.4415 - learning_rate: 0.0010\n",
      "Epoch 4/15\n",
      "\u001b[1m313/313\u001b[0m \u001b[32m━━━━━━━━━━━━━━━━━━━━\u001b[0m\u001b[37m\u001b[0m \u001b[1m36s\u001b[0m 114ms/step - accuracy: 0.9603 - auc: 0.9903 - loss: 0.1179 - val_accuracy: 0.8260 - val_auc: 0.9034 - val_loss: 0.5058 - learning_rate: 5.0000e-04\n",
      "Epoch 4: early stopping\n",
      "Restoring model weights from the end of the best epoch: 1.\n",
      "391/391 - 7s - 17ms/step - accuracy: 0.8334 - auc: 0.9166 - loss: 0.3838\n",
      "Pérdida (test): 0.3838 | Accuracy: 0.8334 | AUC: 0.9166\n"
     ]
    }
   ],
   "source": [
    "# === MODELO SIMPLE (Baseline) ============================================================\n",
    "# Secuencia -> Embedding(50k,128) -> LSTM(128) -> Sigmoid\n",
    "# - Propósito: línea base rápida para comparar contra los modelos con features.\n",
    "# - Entrada: X_train de forma (N, maxlen), y_train binaria {0,1}.\n",
    "# - Salida: probabilidad de sentimiento positivo.\n",
    "\n",
    "from tensorflow.keras import Sequential\n",
    "from tensorflow.keras import layers, optimizers, callbacks\n",
    "import tensorflow as tf\n",
    "\n",
    "vocab_size = 50_000\n",
    "maxlen = X_train.shape[1]  # asumiendo que ya hiciste padding\n",
    "modelo = Sequential(name=\"baseline_secuencia_sola\")\n",
    "modelo.add(layers.Embedding(vocab_size, 128, mask_zero=True, name=\"embedding\"))\n",
    "# Nota: recurrent_dropout deshabilita CuDNN (entrenamiento más lento). Dejarlo en 0 si quieres velocidad en GPU.\n",
    "modelo.add(layers.LSTM(128, dropout=0.2, recurrent_dropout=0.2, name=\"lstm_128\"))\n",
    "modelo.add(layers.Dense(1, activation='sigmoid', name=\"salida\"))\n",
    "\n",
    "modelo.compile(\n",
    "    loss='binary_crossentropy',\n",
    "    optimizer='adam',\n",
    "    metrics=['accuracy', tf.keras.metrics.AUC(name=\"auc\")]\n",
    ")\n",
    "\n",
    "# Callbacks (monitorizamos pérdida de validación: valor mínimo es mejor)\n",
    "es_simple = callbacks.EarlyStopping(\n",
    "    monitor='val_loss', mode='min', patience=3, restore_best_weights=True, verbose=1\n",
    ")\n",
    "rlr_simple = callbacks.ReduceLROnPlateau(\n",
    "    monitor='val_loss', mode='min', factor=0.5, patience=2, min_lr=1e-6, verbose=1\n",
    ")\n",
    "\n",
    "historia = modelo.fit(\n",
    "    X_train, y_train,\n",
    "    batch_size=64,\n",
    "    epochs=15,\n",
    "    validation_split=0.2,      # <- mejor que usar directamente el conjunto de test\n",
    "    callbacks=[es_simple, rlr_simple],\n",
    "    verbose=1\n",
    ")\n",
    "\n",
    "# Guardado y recarga (opcional)\n",
    "modelo.save(\"Analisis_Sentimiento.keras\")\n",
    "from tensorflow.keras.models import load_model\n",
    "modelo = load_model(\"Analisis_Sentimiento.keras\")\n",
    "\n",
    "# Evaluación en test\n",
    "perdida, exactitud, auc_ = modelo.evaluate(X_test, y_test, batch_size=64, verbose=2)\n",
    "print(f\"Pérdida (test): {perdida:.4f} | Accuracy: {exactitud:.4f} | AUC: {auc_:.4f}\")\n"
   ]
  },
  {
   "cell_type": "code",
   "execution_count": 13,
   "metadata": {
    "id": "RGjVEFQxPbBg"
   },
   "outputs": [],
   "source": [
    "modelo.compile(loss='binary_crossentropy',\n",
    "              optimizer='adam',\n",
    "              metrics=['accuracy'])"
   ]
  },
  {
   "cell_type": "markdown",
   "metadata": {},
   "source": [
    "### Modelo con features"
   ]
  },
  {
   "cell_type": "code",
   "execution_count": 33,
   "metadata": {},
   "outputs": [
    {
     "name": "stdout",
     "output_type": "stream",
     "text": [
      "Epoch 1/10\n",
      "\u001b[1m313/313\u001b[0m \u001b[32m━━━━━━━━━━━━━━━━━━━━\u001b[0m\u001b[37m\u001b[0m \u001b[1m29s\u001b[0m 87ms/step - accuracy: 0.7901 - auc: 0.8702 - loss: 0.4505 - val_accuracy: 0.8380 - val_auc: 0.9206 - val_loss: 0.3635 - learning_rate: 0.0010\n",
      "Epoch 2/10\n",
      "\u001b[1m313/313\u001b[0m \u001b[32m━━━━━━━━━━━━━━━━━━━━\u001b[0m\u001b[37m\u001b[0m \u001b[1m26s\u001b[0m 84ms/step - accuracy: 0.9086 - auc: 0.9653 - loss: 0.2368 - val_accuracy: 0.8330 - val_auc: 0.9184 - val_loss: 0.3701 - learning_rate: 0.0010\n",
      "Epoch 3/10\n",
      "\u001b[1m313/313\u001b[0m \u001b[32m━━━━━━━━━━━━━━━━━━━━\u001b[0m\u001b[37m\u001b[0m \u001b[1m0s\u001b[0m 80ms/step - accuracy: 0.9601 - auc: 0.9906 - loss: 0.1174\n",
      "Epoch 3: ReduceLROnPlateau reducing learning rate to 0.0005000000237487257.\n",
      "\u001b[1m313/313\u001b[0m \u001b[32m━━━━━━━━━━━━━━━━━━━━\u001b[0m\u001b[37m\u001b[0m \u001b[1m26s\u001b[0m 82ms/step - accuracy: 0.9550 - auc: 0.9894 - loss: 0.1244 - val_accuracy: 0.8240 - val_auc: 0.9066 - val_loss: 0.5145 - learning_rate: 0.0010\n",
      "Epoch 4/10\n",
      "\u001b[1m313/313\u001b[0m \u001b[32m━━━━━━━━━━━━━━━━━━━━\u001b[0m\u001b[37m\u001b[0m \u001b[1m26s\u001b[0m 82ms/step - accuracy: 0.9857 - auc: 0.9980 - loss: 0.0468 - val_accuracy: 0.8238 - val_auc: 0.8968 - val_loss: 0.6608 - learning_rate: 5.0000e-04\n",
      "Epoch 4: early stopping\n",
      "Restoring model weights from the end of the best epoch: 1.\n",
      "391/391 - 4s - 10ms/step - accuracy: 0.8388 - auc: 0.9185 - loss: 0.3668\n",
      "Pérdida (test): 0.3668 | Accuracy: 0.8388 | AUC: 0.9185\n"
     ]
    }
   ],
   "source": [
    "# === MODELO CON FEATURES (Rama de texto + Rama numérica) =================================\n",
    "# - Entrada 1: secuencia (tokens) -> Embedding -> LSTM\n",
    "# - Entrada 2: features numéricas -> Normalization -> Dense(32, relu)\n",
    "# - Fusión -> Dense(64) -> Dropout -> Sigmoid\n",
    "# - Motivo: las features globales (longitud, OOV, polaridad) complementan la señal secuencial.\n",
    "\n",
    "from tensorflow import keras\n",
    "from tensorflow.keras import layers, regularizers, callbacks, optimizers\n",
    "import tensorflow as tf\n",
    "\n",
    "n_features = train_features.shape[1]\n",
    "\n",
    "# Normalización de features dentro del grafo (evita fugas de datos)\n",
    "normalizador = layers.Normalization(axis=-1, name=\"normalizador_features\")\n",
    "normalizador.adapt(train_features)  # adaptar SIEMPRE con datos de entrenamiento\n",
    "\n",
    "# Entrada 1: secuencia\n",
    "inp_seq_1 = layers.Input(shape=(maxlen,), name=\"input_secuencia\")\n",
    "x1 = layers.Embedding(input_dim=vocab_size, output_dim=128, mask_zero=True, name=\"embedding\")(inp_seq_1)\n",
    "x1 = layers.LSTM(64, name=\"lstm_64\")(x1)  # (recurrent_dropout=0 acelera con CuDNN)\n",
    "\n",
    "# Entrada 2: features\n",
    "inp_feat_1 = layers.Input(shape=(n_features,), name=\"input_features\")\n",
    "f1 = normalizador(inp_feat_1)\n",
    "f1 = layers.Dense(32, activation=\"relu\", name=\"feat_dense_32\")(f1)\n",
    "\n",
    "# Fusión de ramas\n",
    "h1 = layers.Concatenate(name=\"concat\")([x1, f1])\n",
    "h1 = layers.Dense(64, activation=\"relu\", name=\"post_concat_dense_64\")(h1)\n",
    "h1 = layers.Dropout(0.5, name=\"dropout_05\")(h1)\n",
    "\n",
    "# Salida\n",
    "out_1 = layers.Dense(1, activation=\"sigmoid\", name=\"salida\")(h1)\n",
    "\n",
    "modelo_basico = keras.Model(inputs=[inp_seq_1, inp_feat_1], outputs=out_1, name=\"modelo_lstm_basico\")\n",
    "modelo_basico.compile(\n",
    "    optimizer=optimizers.Adam(1e-3),\n",
    "    loss=\"binary_crossentropy\",\n",
    "    metrics=[keras.metrics.AUC(name=\"auc\"), \"accuracy\"]\n",
    ")\n",
    "\n",
    "# Callbacks (aquí probamos monitorizar AUC: valor máximo es mejor)\n",
    "early_stop = callbacks.EarlyStopping(\n",
    "    monitor=\"val_auc\", mode=\"max\", patience=3, restore_best_weights=True, verbose=1\n",
    ")\n",
    "reduce_lr = callbacks.ReduceLROnPlateau(\n",
    "    monitor=\"val_loss\", mode=\"min\", factor=0.5, patience=2, min_lr=1e-6, verbose=1\n",
    ")\n",
    "\n",
    "history_basico = modelo_basico.fit(\n",
    "    [X_train, train_features], y_train,\n",
    "    validation_split=0.2,\n",
    "    epochs=10,\n",
    "    batch_size=64,\n",
    "    callbacks=[early_stop, reduce_lr],\n",
    "    verbose=1,\n",
    ")\n",
    "\n",
    "modelo_basico.save(\"Analisis_Sentimiento2.keras\")\n",
    "perdida, AUC, exactitud = modelo_basico.evaluate([X_test, test_features], y_test, batch_size=64, verbose=2)\n",
    "print(f\"Pérdida (test): {perdida:.4f} | Accuracy: {exactitud:.4f} | AUC: {AUC:.4f}\")\n"
   ]
  },
  {
   "cell_type": "markdown",
   "metadata": {},
   "source": [
    "### Modelo mejorado"
   ]
  },
  {
   "cell_type": "code",
   "execution_count": 34,
   "metadata": {},
   "outputs": [
    {
     "name": "stdout",
     "output_type": "stream",
     "text": [
      "Epoch 1/10\n",
      "\u001b[1m313/313\u001b[0m \u001b[32m━━━━━━━━━━━━━━━━━━━━\u001b[0m\u001b[37m\u001b[0m \u001b[1m136s\u001b[0m 405ms/step - accuracy: 0.7430 - auc: 0.8243 - loss: 0.5316 - val_accuracy: 0.8346 - val_auc: 0.9164 - val_loss: 0.3852 - learning_rate: 3.0000e-04\n",
      "Epoch 2/10\n",
      "\u001b[1m313/313\u001b[0m \u001b[32m━━━━━━━━━━━━━━━━━━━━\u001b[0m\u001b[37m\u001b[0m \u001b[1m0s\u001b[0m 387ms/step - accuracy: 0.8838 - auc: 0.9467 - loss: 0.3093\n",
      "Epoch 2: ReduceLROnPlateau reducing learning rate to 0.0001500000071246177.\n",
      "\u001b[1m313/313\u001b[0m \u001b[32m━━━━━━━━━━━━━━━━━━━━\u001b[0m\u001b[37m\u001b[0m \u001b[1m126s\u001b[0m 402ms/step - accuracy: 0.8824 - auc: 0.9468 - loss: 0.3089 - val_accuracy: 0.8422 - val_auc: 0.9230 - val_loss: 0.3728 - learning_rate: 3.0000e-04\n",
      "Epoch 3/10\n",
      "\u001b[1m313/313\u001b[0m \u001b[32m━━━━━━━━━━━━━━━━━━━━\u001b[0m\u001b[37m\u001b[0m \u001b[1m125s\u001b[0m 399ms/step - accuracy: 0.9420 - auc: 0.9812 - loss: 0.1826 - val_accuracy: 0.8418 - val_auc: 0.9215 - val_loss: 0.4330 - learning_rate: 1.5000e-04\n",
      "Epoch 4/10\n",
      "\u001b[1m313/313\u001b[0m \u001b[32m━━━━━━━━━━━━━━━━━━━━\u001b[0m\u001b[37m\u001b[0m \u001b[1m0s\u001b[0m 378ms/step - accuracy: 0.9618 - auc: 0.9905 - loss: 0.1286\n",
      "Epoch 4: ReduceLROnPlateau reducing learning rate to 7.500000356230885e-05.\n",
      "\u001b[1m313/313\u001b[0m \u001b[32m━━━━━━━━━━━━━━━━━━━━\u001b[0m\u001b[37m\u001b[0m \u001b[1m123s\u001b[0m 393ms/step - accuracy: 0.9589 - auc: 0.9900 - loss: 0.1325 - val_accuracy: 0.8334 - val_auc: 0.9149 - val_loss: 0.5068 - learning_rate: 1.5000e-04\n",
      "Epoch 5/10\n",
      "\u001b[1m313/313\u001b[0m \u001b[32m━━━━━━━━━━━━━━━━━━━━\u001b[0m\u001b[37m\u001b[0m \u001b[1m123s\u001b[0m 392ms/step - accuracy: 0.9771 - auc: 0.9954 - loss: 0.0877 - val_accuracy: 0.8310 - val_auc: 0.9110 - val_loss: 0.5605 - learning_rate: 7.5000e-05\n",
      "Epoch 5: early stopping\n",
      "Restoring model weights from the end of the best epoch: 2.\n",
      "391/391 - 23s - 58ms/step - accuracy: 0.8400 - auc: 0.9198 - loss: 0.3812\n",
      "Pérdida (test): 0.3812 | Accuracy: 0.8400 | AUC: 0.9198\n"
     ]
    }
   ],
   "source": [
    "# === MODELO AVANZADO (BiLSTM apiladas + regularización) =================================\n",
    "# - SpatialDropout1D para robustez a \"apagado\" por canal\n",
    "# - BiLSTM (return_sequences=True) + BiLSTM final\n",
    "# - MLP más profundo en la rama de features\n",
    "# - Regularización L2 y Dropout en la fusión\n",
    "\n",
    "from tensorflow import keras\n",
    "from tensorflow.keras import layers, regularizers, callbacks, optimizers\n",
    "import tensorflow as tf\n",
    "\n",
    "inp_seq_2 = layers.Input(shape=(maxlen,), name=\"input_secuencia_avanzado\")\n",
    "\n",
    "# Rama de texto avanzada\n",
    "x2 = layers.Embedding(input_dim=vocab_size, output_dim=256, mask_zero=True, name=\"embedding_avanzado\")(inp_seq_2)\n",
    "x2 = layers.SpatialDropout1D(0.2, name=\"spatial_dropout\")(x2)\n",
    "x2 = layers.Bidirectional(\n",
    "        layers.LSTM(128, return_sequences=True, dropout=0.2, recurrent_dropout=0.2),\n",
    "        name=\"bilstm_128_rs\"\n",
    "     )(x2)\n",
    "x2 = layers.Dropout(0.3, name=\"dropout_seq_03\")(x2)\n",
    "x2 = layers.Bidirectional(layers.LSTM(64, dropout=0.2, recurrent_dropout=0.2), name=\"bilstm_64\")(x2)\n",
    "x2 = layers.Dense(64, activation=\"relu\", kernel_regularizer=regularizers.l2(1e-4), name=\"text_dense_64\")(x2)\n",
    "\n",
    "# Rama de features avanzada\n",
    "inp_feat_2 = layers.Input(shape=(n_features,), name=\"input_features_avanzado\")\n",
    "f2 = normalizador(inp_feat_2)\n",
    "f2 = layers.Dense(64, activation=\"relu\", name=\"feat_dense_64\")(f2)\n",
    "f2 = layers.Dropout(0.3, name=\"feat_dropout_03\")(f2)\n",
    "f2 = layers.Dense(32, activation=\"relu\", name=\"feat_dense_32_b\")(f2)\n",
    "\n",
    "# Fusión\n",
    "h2 = layers.Concatenate(name=\"concat_avanzado\")([x2, f2])\n",
    "h2 = layers.Dense(128, activation=\"relu\", kernel_regularizer=regularizers.l2(1e-4), name=\"fusion_dense_128\")(h2)\n",
    "h2 = layers.Dropout(0.5, name=\"fusion_dropout_05\")(h2)\n",
    "h2 = layers.Dense(64, activation=\"relu\", name=\"fusion_dense_64\")(h2)\n",
    "\n",
    "out_2 = layers.Dense(1, activation=\"sigmoid\", name=\"salida_avanzada\")(h2)\n",
    "\n",
    "modelo_avanzado = keras.Model(inputs=[inp_seq_2, inp_feat_2], outputs=out_2, name=\"modelo_lstm_avanzado\")\n",
    "modelo_avanzado.compile(\n",
    "    optimizer=optimizers.Adam(3e-4),\n",
    "    loss=\"binary_crossentropy\",\n",
    "    metrics=[keras.metrics.AUC(name=\"auc\"), \"accuracy\"]\n",
    ")\n",
    "\n",
    "history_avanzado = modelo_avanzado.fit(\n",
    "    [X_train_, train_features], y_train,\n",
    "    validation_split=0.2,\n",
    "    epochs=10,\n",
    "    batch_size=64,\n",
    "    callbacks=[early_stop, reduce_lr],\n",
    "    verbose=1\n",
    ")\n",
    "\n",
    "modelo_avanzado.save(\"Analisis_Sentimiento3.keras\")\n",
    "perdida, AUC, exactitud = modelo_avanzado.evaluate([X_test_, test_features], y_test, batch_size=64, verbose=2)\n",
    "print(f\"Pérdida (test): {perdida:.4f} | Accuracy: {exactitud:.4f} | AUC: {AUC:.4f}\")\n"
   ]
  },
  {
   "cell_type": "markdown",
   "metadata": {},
   "source": [
    "## Informe"
   ]
  },
  {
   "cell_type": "code",
   "execution_count": 36,
   "metadata": {},
   "outputs": [
    {
     "data": {
      "text/html": [
       "<div>\n",
       "<style scoped>\n",
       "    .dataframe tbody tr th:only-of-type {\n",
       "        vertical-align: middle;\n",
       "    }\n",
       "\n",
       "    .dataframe tbody tr th {\n",
       "        vertical-align: top;\n",
       "    }\n",
       "\n",
       "    .dataframe thead th {\n",
       "        text-align: right;\n",
       "    }\n",
       "</style>\n",
       "<table border=\"1\" class=\"dataframe\">\n",
       "  <thead>\n",
       "    <tr style=\"text-align: right;\">\n",
       "      <th></th>\n",
       "      <th>modelo</th>\n",
       "      <th>accuracy</th>\n",
       "      <th>f1</th>\n",
       "      <th>auc</th>\n",
       "    </tr>\n",
       "  </thead>\n",
       "  <tbody>\n",
       "    <tr>\n",
       "      <th>0</th>\n",
       "      <td>Sólo secuencia</td>\n",
       "      <td>0.83336</td>\n",
       "      <td>0.842935</td>\n",
       "      <td>0.916636</td>\n",
       "    </tr>\n",
       "    <tr>\n",
       "      <th>1</th>\n",
       "      <td>Secuencia + features (simple)</td>\n",
       "      <td>0.83876</td>\n",
       "      <td>0.837138</td>\n",
       "      <td>0.918490</td>\n",
       "    </tr>\n",
       "    <tr>\n",
       "      <th>2</th>\n",
       "      <td>Secuencia + features (avanzado)</td>\n",
       "      <td>0.83996</td>\n",
       "      <td>0.840018</td>\n",
       "      <td>0.919838</td>\n",
       "    </tr>\n",
       "  </tbody>\n",
       "</table>\n",
       "</div>"
      ],
      "text/plain": [
       "                            modelo  accuracy        f1       auc\n",
       "0                   Sólo secuencia   0.83336  0.842935  0.916636\n",
       "1    Secuencia + features (simple)   0.83876  0.837138  0.918490\n",
       "2  Secuencia + features (avanzado)   0.83996  0.840018  0.919838"
      ]
     },
     "metadata": {},
     "output_type": "display_data"
    },
    {
     "data": {
      "image/png": "[encoded data removed]",
      "text/plain": [
       "<Figure size 1100x400 with 2 Axes>"
      ]
     },
     "metadata": {},
     "output_type": "display_data"
    }
   ],
   "source": [
    "# === PRESENTACIÓN: tabla comparativa + curvas ROC/PR =====================================\n",
    "import pandas as pd\n",
    "from sklearn.metrics import f1_score, precision_recall_curve, roc_curve, auc\n",
    "\n",
    "def eval_model(model, X, y_true):\n",
    "    y_prob = model.predict(X, verbose=0).ravel()\n",
    "    y_pred = (y_prob >= 0.5).astype(int)\n",
    "    acc = (y_pred == y_true).mean().item()\n",
    "    f1 = f1_score(y_true, y_pred)\n",
    "    fpr, tpr, _ = roc_curve(y_true, y_prob)\n",
    "    auc_roc = auc(fpr, tpr)\n",
    "    prec, rec, _ = precision_recall_curve(y_true, y_prob)\n",
    "    return {\"accuracy\": acc, \"f1\": f1, \"auc\": auc_roc}, (fpr, tpr), (rec, prec)\n",
    "\n",
    "res = []\n",
    "m_base, roc_base, pr_base = eval_model(modelo, X_test, y_test)\n",
    "res.append({\"modelo\":\"Sólo secuencia\", **m_base})\n",
    "m_plus, roc_plus, pr_plus = eval_model(modelo_basico, [X_test, test_features], y_test)\n",
    "res.append({\"modelo\":\"Secuencia + features (simple)\", **m_plus})\n",
    "m_adv, roc_adv, pr_adv = eval_model(modelo_avanzado, [X_test_, test_features], y_test)\n",
    "res.append({\"modelo\":\"Secuencia + features (avanzado)\", **m_adv})\n",
    "\n",
    "display(pd.DataFrame(res))\n",
    "\n",
    "# Curvas ROC/PR\n",
    "import matplotlib.pyplot as plt\n",
    "plt.figure(figsize=(11,4))\n",
    "plt.subplot(1,2,1)\n",
    "for (lbl, (fpr,tpr)) in [\n",
    "    (\"Baseline\", roc_base),\n",
    "    (\"+Features (simple)\", roc_plus),\n",
    "    (\"+Features (avanzado)\", roc_adv),\n",
    "]:\n",
    "    plt.plot(fpr, tpr, label=lbl)\n",
    "plt.plot([0,1],[0,1],'--',lw=1, c='gray')\n",
    "plt.title(\"ROC\"); plt.xlabel(\"FPR\"); plt.ylabel(\"TPR\"); plt.legend()\n",
    "\n",
    "plt.subplot(1,2,2)\n",
    "for (lbl, (rec,prec)) in [\n",
    "    (\"Baseline\", pr_base),\n",
    "    (\"+Features (simple)\", pr_plus),\n",
    "    (\"+Features (avanzado)\", pr_adv),\n",
    "]:\n",
    "    plt.plot(rec, prec, label=lbl)\n",
    "plt.title(\"PR\"); plt.xlabel(\"Recall\"); plt.ylabel(\"Precision\"); plt.legend()\n",
    "plt.tight_layout(); plt.show()\n"
   ]
  },
  {
   "cell_type": "markdown",
   "metadata": {},
   "source": [
    "### Resultados"
   ]
  },
  {
   "cell_type": "markdown",
   "metadata": {},
   "source": [
    "Resultados. Trabajamos con IMDB (50 k vocabulario) y una línea base LSTM sobre secuencia, comparándola con dos variantes que añaden una rama de features (longitud, OOV, polaridad). En test, el baseline obtiene Acc = 0.833, F1 = 0.843, AUC = 0.917. Al añadir features, el modelo simple sube a Acc = 0.839 (+0.54 pp) y AUC = 0.918 (+0.0019), mientras que el avanzado alcanza Acc = 0.840 (+0.66 pp) y AUC = 0.920 (+0.0032). En F1, las variantes con features quedan muy cerca del baseline (0.837 y 0.840 frente a 0.843). Las curvas ROC/PR se solapan casi por completo, con una leve ventaja de los modelos con features especialmente en el rango de recall medio–alto."
   ]
  },
  {
   "cell_type": "markdown",
   "metadata": {},
   "source": [
    "### Discusión"
   ]
  },
  {
   "cell_type": "markdown",
   "metadata": {},
   "source": [
    "Las features aportan una mejor calibración/ranking (AUC ligeramente superior) y una pequeña mejora en accuracy, pero el umbral fijo de 0.5 no maximiza F1; esto explica que F1 no suba pese a la mejor AUC. En otras palabras, el modelo ordena mejor los ejemplos (más separabilidad), pero requiere ajuste del umbral (p. ej., max-F1 o Youden-J en validación) para traducir esa ganancia en F1. La versión avanzada (BiLSTM + regularización) es la mejor global y muestra entrenamiento estable (early stopping + reduce-LR). En conjunto, se cumple el objetivo del laboratorio: la integración de features mejora de forma modesta pero consistente al baseline, y deja claro el siguiente paso práctico: tuning del umbral, ampliar el set de features (negaciones/intensificadores) y/o embeddings preentrenados para empujar F1 sin sacrificar AUC."
   ]
  }
 ],
 "metadata": {
  "colab": {
   "collapsed_sections": [],
   "provenance": []
  },
  "kernelspec": {
   "display_name": ".venv",
   "language": "python",
   "name": "python3"
  },
  "language_info": {
   "codemirror_mode": {
    "name": "ipython",
    "version": 3
   },
   "file_extension": ".py",
   "mimetype": "text/x-python",
   "name": "python",
   "nbconvert_exporter": "python",
   "pygments_lexer": "ipython3",
   "version": "3.12.3"
  }
 },
 "nbformat": 4,
 "nbformat_minor": 4
}
